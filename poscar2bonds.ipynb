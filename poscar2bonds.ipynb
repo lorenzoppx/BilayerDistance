{
 "cells": [
  {
   "cell_type": "code",
   "execution_count": 1,
   "id": "7b6e003b-ddcb-4c49-9e50-d355b684f311",
   "metadata": {},
   "outputs": [
    {
     "name": "stderr",
     "output_type": "stream",
     "text": [
      "C:\\Users\\lorenzo.xavier\\AppData\\Roaming\\Python\\Python39\\site-packages\\pymatgen\\core\\structure.py:3083: EncodingWarning: We strongly encourage explicit `encoding`, and we would use UTF-8 by default as per PEP 686\n",
      "  with zopen(filename, mode=\"rt\", errors=\"replace\") as file:\n"
     ]
    },
    {
     "name": "stdout",
     "output_type": "stream",
     "text": [
      "Atom Vector: [0 0 0 0 0 0 0 0 0 0 0 0 0 0 0 0 0 0 0 0 0 0 0 0 0 0 0 0 0 0 0 0 4 0 0 0 0\n",
      " 0 0 0 0 0 0 0 0 0 0 0 0 0 0 0 0 0 0 0 0 0 0 0 0 0 0 0 0 0 0 0 0 0 0 0 0 0\n",
      " 0 0 0 0 0 0 0 0 0 0 0 0 0 0 0 0 0 0 0 0 0 0 0 0 0 0 0 0 0 0 0 0 0 0 0 0 0\n",
      " 0 0 0 0 0 0 0]\n",
      "Bond Vector: [0 0 0 ... 0 0 0]\n"
     ]
    }
   ],
   "source": [
    "import numpy as np\n",
    "from pymatgen.core import Structure\n",
    "from mendeleev import element  # For fetching covalent radius\n",
    "\n",
    "# Function to compute atom and bond vectors\n",
    "def compute_atom_and_bond_vectors(poscar_file):\n",
    "    delta = 0.3  # Parameter for bond decision (sum of covalent radii + delta)\n",
    "\n",
    "    # Open and read the POSCAR file to determine coordinate system\n",
    "    with open(poscar_file, 'r') as f:\n",
    "        lines = f.readlines()\n",
    "        # Check if 'Direct' or 'Cartesian' appears in the file\n",
    "        if any('direct' in line.lower() for line in lines):\n",
    "            coord_type = 'direct'\n",
    "        elif any('cartesian' in line.lower() for line in lines):\n",
    "            coord_type = 'cartesian'\n",
    "        else:\n",
    "            raise ValueError(\"Coordinate type not found in the POSCAR file.\")\n",
    "\n",
    "    # Parse the POSCAR file using pymatgen\n",
    "    structure = Structure.from_file(poscar_file)\n",
    "    \n",
    "    num_atoms = len(structure)\n",
    "    atomic_numbers = [site.specie.Z for site in structure.sites]\n",
    "    positions = np.array([site.frac_coords if coord_type == 'direct' else site.coords for site in structure.sites])\n",
    "    lattice = structure.lattice.matrix\n",
    "    if coord_type == 'direct':\n",
    "        positions = np.dot(positions, lattice)  # Convert fractional to Cartesian if needed\n",
    "\n",
    "    # Initialize the atom vector and bond vector\n",
    "    atom_vector = np.zeros(118, dtype=int)\n",
    "    bond_vector = np.zeros(118 * 119 // 2, dtype=int)  # Triangular matrix, 1-1, 1-2, ..., 118-118\n",
    "\n",
    "    # Fill the atom vector\n",
    "    for atomic_number in atomic_numbers:\n",
    "        atom_vector[atomic_number - 1] += 1  # Atomic numbers start at 1, array indices at 0\n",
    "\n",
    "    # Get covalent radii for bonding check\n",
    "    covalent_radii = [element(site.specie.symbol).covalent_radius / 100 for site in structure.sites]\n",
    "\n",
    "    # Fill the bond vector\n",
    "    def bond_index(z1, z2):\n",
    "        # Convert z1 and z2 to a unique index in the bond_vector for z1-z2 pairs\n",
    "        return (z1 - 1) * 118 + (z2 - 1) - (z1 * (z1 - 1)) // 2\n",
    "\n",
    "    # Loop over each pair of atoms and neighboring cells\n",
    "    for i in range(num_atoms):\n",
    "        for j in range(i + 1, num_atoms):\n",
    "            for k in [-1, 0, 1]:\n",
    "                for l in [-1, 0, 1]:\n",
    "                    for m in [-1, 0, 1]:\n",
    "                        translation = k * lattice[0] + l * lattice[1] + m * lattice[2]\n",
    "                        distance_vector = positions[i] - (positions[j] + translation)\n",
    "                        distance = np.linalg.norm(distance_vector)\n",
    "\n",
    "                        sum_covalent_radii = covalent_radii[i] + covalent_radii[j] + delta\n",
    "                        if distance <= sum_covalent_radii:\n",
    "                            z1, z2 = sorted((atomic_numbers[i], atomic_numbers[j]))\n",
    "                            bond_vector[bond_index(z1, z2)] += 1\n",
    "\n",
    "    return atom_vector, bond_vector\n",
    "\n",
    "# Example usage:\n",
    "poscar_file = \"POSCAR_Bilayers/As2+As2_4ce37585d2a3c90d+0001.vasp\"\n",
    "atom_vector, bond_vector = compute_atom_and_bond_vectors(poscar_file)\n",
    "print(\"Atom Vector:\", atom_vector)\n",
    "##index rule for the bond n-m\n",
    "#n=34\n",
    "#m=82\n",
    "#index=m - (n-1) + (n-1)*118 - (n*(n-1))//2\n",
    "print(\"Bond Vector:\", bond_vector)\n"
   ]
  },
  {
   "cell_type": "code",
   "execution_count": 3,
   "id": "6f7d3928-6341-4151-96a2-d33cce0822d8",
   "metadata": {},
   "outputs": [
    {
     "name": "stdout",
     "output_type": "stream",
     "text": [
      "Non-zero Bond Vector Elements:\n",
      "Bonds between atomic numbers 33-33: 6\n"
     ]
    }
   ],
   "source": [
    "# Print non-zero elements of the bond_vector with their indices\n",
    "non_zero_bonds = [(i, bond_vector[i]) for i in range(len(bond_vector)) if bond_vector[i] > 0]\n",
    "print(\"Non-zero Bond Vector Elements:\")\n",
    "\n",
    "for index, count in non_zero_bonds:\n",
    "    # Calculate Z1 and Z2 based on the flattened bond index\n",
    "    z1 = 1\n",
    "    cumulative_count = 0\n",
    "    while index >= cumulative_count + (118 - z1 + 1):\n",
    "        cumulative_count += (118 - z1 + 1)\n",
    "        z1 += 1\n",
    "    z2 = z1 + (index - cumulative_count) \n",
    "\n",
    "    print(f\"Bonds between atomic numbers {z1}-{z2}: {count}\")\n"
   ]
  },
  {
   "cell_type": "code",
   "execution_count": 4,
   "id": "da97486e-5c39-4a99-b530-f49831bb6104",
   "metadata": {},
   "outputs": [
    {
     "data": {
      "text/plain": [
       "6"
      ]
     },
     "execution_count": 4,
     "metadata": {},
     "output_type": "execute_result"
    }
   ],
   "source": [
    "np.sum(bond_vector)"
   ]
  },
  {
   "cell_type": "code",
   "execution_count": 5,
   "id": "210343ec-133d-4ef1-b768-ec37bb4f6bab",
   "metadata": {},
   "outputs": [
    {
     "data": {
      "text/plain": [
       "array([0, 0, 0, 0, 0, 0, 0, 0, 0, 0, 0, 0, 0, 0, 0, 0, 0, 0, 0, 0, 0, 0,\n",
       "       0, 0, 0, 0, 0, 0, 0, 0, 0, 0, 4, 0, 0, 0, 0, 0, 0, 0, 0, 0, 0, 0,\n",
       "       0, 0, 0, 0, 0, 0, 0, 0, 0, 0, 0, 0, 0, 0, 0, 0, 0, 0, 0, 0, 0, 0,\n",
       "       0, 0, 0, 0, 0, 0, 0, 0, 0, 0, 0, 0, 0, 0, 0, 0, 0, 0, 0, 0, 0, 0,\n",
       "       0, 0, 0, 0, 0, 0, 0, 0, 0, 0, 0, 0, 0, 0, 0, 0, 0, 0, 0, 0, 0, 0,\n",
       "       0, 0, 0, 0, 0, 0, 0, 0])"
      ]
     },
     "execution_count": 5,
     "metadata": {},
     "output_type": "execute_result"
    }
   ],
   "source": [
    "atom_vector"
   ]
  },
  {
   "cell_type": "code",
   "execution_count": 7,
   "id": "66f65017-8651-40a9-b0f5-345c1bb4f30e",
   "metadata": {},
   "outputs": [
    {
     "name": "stdout",
     "output_type": "stream",
     "text": [
      "[0 0 0 ... 0 0 0]\n"
     ]
    }
   ],
   "source": [
    "print(bond_vector)"
   ]
  }
 ],
 "metadata": {
  "kernelspec": {
   "display_name": "Python 3 (ipykernel)",
   "language": "python",
   "name": "python3"
  },
  "language_info": {
   "codemirror_mode": {
    "name": "ipython",
    "version": 3
   },
   "file_extension": ".py",
   "mimetype": "text/x-python",
   "name": "python",
   "nbconvert_exporter": "python",
   "pygments_lexer": "ipython3",
   "version": "3.9.13"
  }
 },
 "nbformat": 4,
 "nbformat_minor": 5
}
