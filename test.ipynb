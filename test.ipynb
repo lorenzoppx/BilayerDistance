{
 "cells": [
  {
   "cell_type": "code",
   "execution_count": 1,
   "id": "3a7395e4-d8c4-47dd-84b5-329f263bc4b1",
   "metadata": {},
   "outputs": [
    {
     "ename": "ModuleNotFoundError",
     "evalue": "No module named 'ase.calculators.gpaw'",
     "output_type": "error",
     "traceback": [
      "\u001b[1;31m---------------------------------------------------------------------------\u001b[0m",
      "\u001b[1;31mModuleNotFoundError\u001b[0m                       Traceback (most recent call last)",
      "Cell \u001b[1;32mIn[1], line 2\u001b[0m\n\u001b[0;32m      1\u001b[0m \u001b[38;5;28;01mfrom\u001b[39;00m\u001b[38;5;250m \u001b[39m\u001b[38;5;21;01mase\u001b[39;00m\u001b[38;5;250m \u001b[39m\u001b[38;5;28;01mimport\u001b[39;00m Atoms\n\u001b[1;32m----> 2\u001b[0m \u001b[38;5;28;01mfrom\u001b[39;00m\u001b[38;5;250m \u001b[39m\u001b[38;5;21;01mase\u001b[39;00m\u001b[38;5;21;01m.\u001b[39;00m\u001b[38;5;21;01mcalculators\u001b[39;00m\u001b[38;5;21;01m.\u001b[39;00m\u001b[38;5;21;01mgpaw\u001b[39;00m\u001b[38;5;250m \u001b[39m\u001b[38;5;28;01mimport\u001b[39;00m GPAW, PW\n\u001b[0;32m      4\u001b[0m \u001b[38;5;66;03m# Define molecule\u001b[39;00m\n\u001b[0;32m      5\u001b[0m atoms \u001b[38;5;241m=\u001b[39m Atoms(\u001b[38;5;124m'\u001b[39m\u001b[38;5;124mH2\u001b[39m\u001b[38;5;124m'\u001b[39m, positions\u001b[38;5;241m=\u001b[39m[(\u001b[38;5;241m0\u001b[39m, \u001b[38;5;241m0\u001b[39m, \u001b[38;5;241m0\u001b[39m), (\u001b[38;5;241m0\u001b[39m, \u001b[38;5;241m0\u001b[39m, \u001b[38;5;241m0.74\u001b[39m)])\n",
      "\u001b[1;31mModuleNotFoundError\u001b[0m: No module named 'ase.calculators.gpaw'"
     ]
    }
   ],
   "source": [
    "from ase import Atoms\n",
    "from ase.calculators.gpaw import GPAW, PW\n",
    "\n",
    "# Define molecule\n",
    "atoms = Atoms('H2', positions=[(0, 0, 0), (0, 0, 0.74)])\n",
    "\n",
    "# Set up calculator with GPAW\n",
    "calc = GPAW(mode=PW(500), xc='PBE', kpts=(1, 1, 1), txt='output.txt')\n",
    "atoms.set_calculator(calc)\n",
    "\n",
    "# Calculate total energy\n",
    "energy = atoms.get_total_energy()\n",
    "print('Total energy:', energy)\n"
   ]
  }
 ],
 "metadata": {
  "kernelspec": {
   "display_name": "Python 3 (ipykernel)",
   "language": "python",
   "name": "python3"
  },
  "language_info": {
   "codemirror_mode": {
    "name": "ipython",
    "version": 3
   },
   "file_extension": ".py",
   "mimetype": "text/x-python",
   "name": "python",
   "nbconvert_exporter": "python",
   "pygments_lexer": "ipython3",
   "version": "3.9.13"
  }
 },
 "nbformat": 4,
 "nbformat_minor": 5
}
